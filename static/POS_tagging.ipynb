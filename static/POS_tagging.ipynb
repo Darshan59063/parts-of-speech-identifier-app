{
  "nbformat": 4,
  "nbformat_minor": 0,
  "metadata": {
    "colab": {
      "provenance": [],
      "gpuType": "T4"
    },
    "kernelspec": {
      "name": "python3",
      "display_name": "Python 3"
    },
    "language_info": {
      "name": "python"
    },
    "accelerator": "GPU"
  },
  "cells": [
    {
      "cell_type": "code",
      "execution_count": null,
      "metadata": {
        "id": "Shb-mTPKj_C9"
      },
      "outputs": [],
      "source": [
        "import nltk\n",
        "from nltk.corpus import brown"
      ]
    },
    {
      "cell_type": "code",
      "source": [
        "import numpy as np\n",
        "import pandas as pd\n",
        "import tensorflow as tf\n",
        "import matplotlib.pyplot as plt\n",
        "from sklearn.model_selection import train_test_split\n",
        "\n",
        "from tensorflow.keras.preprocessing.text import Tokenizer\n",
        "from tensorflow.keras.preprocessing.sequence import pad_sequences\n",
        "from tensorflow.keras.layers import Dense, Input, Bidirectional\n",
        "from tensorflow.keras.layers import LSTM, GRU, SimpleRNN, Embedding\n",
        "from tensorflow.keras.models import Model\n",
        "from tensorflow.keras.losses import SparseCategoricalCrossentropy"
      ],
      "metadata": {
        "id": "uezvZ-eg-0F4"
      },
      "execution_count": null,
      "outputs": []
    },
    {
      "cell_type": "code",
      "source": [
        "nltk.download('brown')\n",
        "nltk.download('universal_tagset')"
      ],
      "metadata": {
        "colab": {
          "base_uri": "https://localhost:8080/"
        },
        "id": "ByVN-JHHkJYR",
        "outputId": "03e3ede9-6755-41de-fb1d-36a0f3ff80b7"
      },
      "execution_count": null,
      "outputs": [
        {
          "output_type": "stream",
          "name": "stderr",
          "text": [
            "[nltk_data] Downloading package brown to /root/nltk_data...\n",
            "[nltk_data]   Unzipping corpora/brown.zip.\n",
            "[nltk_data] Downloading package universal_tagset to /root/nltk_data...\n",
            "[nltk_data]   Unzipping taggers/universal_tagset.zip.\n"
          ]
        },
        {
          "output_type": "execute_result",
          "data": {
            "text/plain": [
              "True"
            ]
          },
          "metadata": {},
          "execution_count": 6
        }
      ]
    },
    {
      "cell_type": "code",
      "source": [
        "corpus = brown.tagged_sents(tagset='universal')"
      ],
      "metadata": {
        "id": "AS1ACcoKkXL7"
      },
      "execution_count": null,
      "outputs": []
    },
    {
      "cell_type": "code",
      "source": [
        "corpus"
      ],
      "metadata": {
        "colab": {
          "base_uri": "https://localhost:8080/"
        },
        "id": "MEUyfFAekisk",
        "outputId": "a57e28a4-3068-488a-b9ce-207dd5cf97ee"
      },
      "execution_count": null,
      "outputs": [
        {
          "output_type": "execute_result",
          "data": {
            "text/plain": [
              "[[('The', 'DET'), ('Fulton', 'NOUN'), ('County', 'NOUN'), ('Grand', 'ADJ'), ('Jury', 'NOUN'), ('said', 'VERB'), ('Friday', 'NOUN'), ('an', 'DET'), ('investigation', 'NOUN'), ('of', 'ADP'), (\"Atlanta's\", 'NOUN'), ('recent', 'ADJ'), ('primary', 'NOUN'), ('election', 'NOUN'), ('produced', 'VERB'), ('``', '.'), ('no', 'DET'), ('evidence', 'NOUN'), (\"''\", '.'), ('that', 'ADP'), ('any', 'DET'), ('irregularities', 'NOUN'), ('took', 'VERB'), ('place', 'NOUN'), ('.', '.')], [('The', 'DET'), ('jury', 'NOUN'), ('further', 'ADV'), ('said', 'VERB'), ('in', 'ADP'), ('term-end', 'NOUN'), ('presentments', 'NOUN'), ('that', 'ADP'), ('the', 'DET'), ('City', 'NOUN'), ('Executive', 'ADJ'), ('Committee', 'NOUN'), (',', '.'), ('which', 'DET'), ('had', 'VERB'), ('over-all', 'ADJ'), ('charge', 'NOUN'), ('of', 'ADP'), ('the', 'DET'), ('election', 'NOUN'), (',', '.'), ('``', '.'), ('deserves', 'VERB'), ('the', 'DET'), ('praise', 'NOUN'), ('and', 'CONJ'), ('thanks', 'NOUN'), ('of', 'ADP'), ('the', 'DET'), ('City', 'NOUN'), ('of', 'ADP'), ('Atlanta', 'NOUN'), (\"''\", '.'), ('for', 'ADP'), ('the', 'DET'), ('manner', 'NOUN'), ('in', 'ADP'), ('which', 'DET'), ('the', 'DET'), ('election', 'NOUN'), ('was', 'VERB'), ('conducted', 'VERB'), ('.', '.')], ...]"
            ]
          },
          "metadata": {},
          "execution_count": 8
        }
      ]
    },
    {
      "cell_type": "code",
      "source": [
        "\n",
        "len(corpus)"
      ],
      "metadata": {
        "colab": {
          "base_uri": "https://localhost:8080/"
        },
        "id": "QmlRiFjIkkO7",
        "outputId": "fd7c287a-cce0-41ba-de5f-11959eed8302"
      },
      "execution_count": null,
      "outputs": [
        {
          "output_type": "execute_result",
          "data": {
            "text/plain": [
              "57340"
            ]
          },
          "metadata": {},
          "execution_count": 9
        }
      ]
    },
    {
      "cell_type": "code",
      "source": [
        "inputs = []\n",
        "targets = []\n",
        "\n",
        "for sentence_tag_pairs in corpus:\n",
        "  tokens = []\n",
        "  target = []\n",
        "  # print(sentence_tag_pairs)\n",
        "  for token, tag in sentence_tag_pairs:\n",
        "    tokens.append(token)\n",
        "    target.append(tag)\n",
        "  inputs.append(tokens)\n",
        "  targets.append(target)"
      ],
      "metadata": {
        "id": "6UdtLprzk7df"
      },
      "execution_count": null,
      "outputs": []
    },
    {
      "cell_type": "code",
      "source": [
        "inputs[:1]"
      ],
      "metadata": {
        "id": "itj3tM73l1ns",
        "outputId": "e1ce9d7c-4167-415d-f882-f169b5b4e241",
        "colab": {
          "base_uri": "https://localhost:8080/"
        }
      },
      "execution_count": null,
      "outputs": [
        {
          "output_type": "execute_result",
          "data": {
            "text/plain": [
              "[['The',\n",
              "  'Fulton',\n",
              "  'County',\n",
              "  'Grand',\n",
              "  'Jury',\n",
              "  'said',\n",
              "  'Friday',\n",
              "  'an',\n",
              "  'investigation',\n",
              "  'of',\n",
              "  \"Atlanta's\",\n",
              "  'recent',\n",
              "  'primary',\n",
              "  'election',\n",
              "  'produced',\n",
              "  '``',\n",
              "  'no',\n",
              "  'evidence',\n",
              "  \"''\",\n",
              "  'that',\n",
              "  'any',\n",
              "  'irregularities',\n",
              "  'took',\n",
              "  'place',\n",
              "  '.']]"
            ]
          },
          "metadata": {},
          "execution_count": 11
        }
      ]
    },
    {
      "cell_type": "code",
      "source": [
        "train_inputs, test_inputs, train_targets, test_targets = train_test_split(inputs, targets, test_size=0.3)"
      ],
      "metadata": {
        "id": "ppiR7IESl4Iq"
      },
      "execution_count": null,
      "outputs": []
    },
    {
      "cell_type": "code",
      "source": [
        "train_inputs[:1]"
      ],
      "metadata": {
        "colab": {
          "base_uri": "https://localhost:8080/"
        },
        "id": "4tVzEBZa_1uz",
        "outputId": "00947baf-58c6-422e-a5bb-d552d0a9f711"
      },
      "execution_count": null,
      "outputs": [
        {
          "output_type": "execute_result",
          "data": {
            "text/plain": [
              "[['The',\n",
              "  'new',\n",
              "  'regime',\n",
              "  'in',\n",
              "  'Turkey',\n",
              "  'is',\n",
              "  'intentionally',\n",
              "  'less',\n",
              "  'Muslim',\n",
              "  'than',\n",
              "  'its',\n",
              "  'predecessor',\n",
              "  '.']]"
            ]
          },
          "metadata": {},
          "execution_count": 13
        }
      ]
    },
    {
      "cell_type": "code",
      "source": [
        "train_inputs[:1].shape"
      ],
      "metadata": {
        "id": "KFzNbrAakzJj"
      },
      "execution_count": null,
      "outputs": []
    },
    {
      "cell_type": "code",
      "source": [
        "train_targets[:1]"
      ],
      "metadata": {
        "colab": {
          "base_uri": "https://localhost:8080/"
        },
        "id": "7RVl326c_3ev",
        "outputId": "efa36397-189c-49e2-a5f0-2364b9504db8"
      },
      "execution_count": null,
      "outputs": [
        {
          "output_type": "execute_result",
          "data": {
            "text/plain": [
              "[['DET',\n",
              "  'ADJ',\n",
              "  'NOUN',\n",
              "  'ADP',\n",
              "  'NOUN',\n",
              "  'VERB',\n",
              "  'ADV',\n",
              "  'ADJ',\n",
              "  'ADJ',\n",
              "  'ADP',\n",
              "  'DET',\n",
              "  'NOUN',\n",
              "  '.']]"
            ]
          },
          "metadata": {},
          "execution_count": 14
        }
      ]
    },
    {
      "cell_type": "code",
      "source": [
        "# Convert sentences to sequences\n",
        "\n",
        "MAX_VOCAB_SIZE = None\n",
        "\n",
        "should_lowercase = False\n",
        "word_tokenizer = Tokenizer(\n",
        "    num_words=MAX_VOCAB_SIZE,\n",
        "    lower=should_lowercase,\n",
        "    oov_token='UNK',\n",
        ")\n",
        "\n",
        "word_tokenizer.fit_on_texts(train_inputs)\n",
        "train_inputs_int = word_tokenizer.texts_to_sequences(train_inputs)\n",
        "test_inputs_int = word_tokenizer.texts_to_sequences(test_inputs)"
      ],
      "metadata": {
        "id": "zM-QvxIrADof"
      },
      "execution_count": null,
      "outputs": []
    },
    {
      "cell_type": "code",
      "source": [
        "train_inputs[0]"
      ],
      "metadata": {
        "colab": {
          "base_uri": "https://localhost:8080/"
        },
        "id": "V1kSBfW8IW6J",
        "outputId": "634e632c-6437-48a0-c681-282e497e462c"
      },
      "execution_count": null,
      "outputs": [
        {
          "output_type": "execute_result",
          "data": {
            "text/plain": [
              "['The',\n",
              " 'new',\n",
              " 'regime',\n",
              " 'in',\n",
              " 'Turkey',\n",
              " 'is',\n",
              " 'intentionally',\n",
              " 'less',\n",
              " 'Muslim',\n",
              " 'than',\n",
              " 'its',\n",
              " 'predecessor',\n",
              " '.']"
            ]
          },
          "metadata": {},
          "execution_count": 16
        }
      ]
    },
    {
      "cell_type": "code",
      "source": [
        "train_inputs_int[0], train_inputs_int[1]"
      ],
      "metadata": {
        "colab": {
          "base_uri": "https://localhost:8080/"
        },
        "id": "nMHQjmFNA7zY",
        "outputId": "ce6410e3-5d4d-4906-c56e-54e95c75b72e"
      },
      "execution_count": null,
      "outputs": [
        {
          "output_type": "execute_result",
          "data": {
            "text/plain": [
              "([16, 102, 4634, 9, 9172, 11, 14253, 215, 14254, 69, 70, 14255, 4],\n",
              " [271, 1717, 71, 22, 729, 14256, 76, 4])"
            ]
          },
          "metadata": {},
          "execution_count": 17
        }
      ]
    },
    {
      "cell_type": "code",
      "source": [
        "len(train_inputs_int[0]), len(train_inputs_int[1])"
      ],
      "metadata": {
        "colab": {
          "base_uri": "https://localhost:8080/"
        },
        "id": "bjCrrnd_EVxh",
        "outputId": "629ce420-6320-4bb2-9931-da6363aed625"
      },
      "execution_count": null,
      "outputs": [
        {
          "output_type": "execute_result",
          "data": {
            "text/plain": [
              "(13, 8)"
            ]
          },
          "metadata": {},
          "execution_count": 18
        }
      ]
    },
    {
      "cell_type": "code",
      "source": [
        "# word -> integer mapping\n",
        "word2idx = word_tokenizer.word_index\n",
        "V = len(word2idx)\n",
        "print('Found %s unique tokens.' % V)"
      ],
      "metadata": {
        "colab": {
          "base_uri": "https://localhost:8080/"
        },
        "id": "ClRCjF3REOkR",
        "outputId": "9f20e975-6758-460b-a43a-c2b546d352d7"
      },
      "execution_count": null,
      "outputs": [
        {
          "output_type": "stream",
          "name": "stdout",
          "text": [
            "Found 47216 unique tokens.\n"
          ]
        }
      ]
    },
    {
      "cell_type": "code",
      "source": [
        "word2idx"
      ],
      "metadata": {
        "colab": {
          "base_uri": "https://localhost:8080/"
        },
        "id": "F1m5g_-TF3MD",
        "outputId": "a4d8ff1f-690e-47b2-e324-d09cbb80e0b8"
      },
      "execution_count": null,
      "outputs": [
        {
          "output_type": "execute_result",
          "data": {
            "text/plain": [
              "{'UNK': 1,\n",
              " 'the': 2,\n",
              " ',': 3,\n",
              " '.': 4,\n",
              " 'of': 5,\n",
              " 'and': 6,\n",
              " 'to': 7,\n",
              " 'a': 8,\n",
              " 'in': 9,\n",
              " 'that': 10,\n",
              " 'is': 11,\n",
              " 'was': 12,\n",
              " 'for': 13,\n",
              " '``': 14,\n",
              " \"''\": 15,\n",
              " 'The': 16,\n",
              " 'with': 17,\n",
              " 'it': 18,\n",
              " 'as': 19,\n",
              " 'he': 20,\n",
              " 'his': 21,\n",
              " 'be': 22,\n",
              " 'on': 23,\n",
              " ';': 24,\n",
              " 'by': 25,\n",
              " 'I': 26,\n",
              " 'had': 27,\n",
              " 'at': 28,\n",
              " '?': 29,\n",
              " 'not': 30,\n",
              " 'are': 31,\n",
              " 'from': 32,\n",
              " 'or': 33,\n",
              " 'this': 34,\n",
              " 'have': 35,\n",
              " 'which': 36,\n",
              " 'an': 37,\n",
              " '--': 38,\n",
              " 'were': 39,\n",
              " 'but': 40,\n",
              " 'He': 41,\n",
              " 'one': 42,\n",
              " 'you': 43,\n",
              " 'they': 44,\n",
              " 'her': 45,\n",
              " 'all': 46,\n",
              " 'would': 47,\n",
              " ')': 48,\n",
              " 'their': 49,\n",
              " '(': 50,\n",
              " 'him': 51,\n",
              " 'been': 52,\n",
              " 'has': 53,\n",
              " 'will': 54,\n",
              " 'who': 55,\n",
              " 'more': 56,\n",
              " 'out': 57,\n",
              " 'It': 58,\n",
              " 'she': 59,\n",
              " 'we': 60,\n",
              " 'said': 61,\n",
              " 'there': 62,\n",
              " 'about': 63,\n",
              " 'In': 64,\n",
              " 'up': 65,\n",
              " ':': 66,\n",
              " 'no': 67,\n",
              " 'them': 68,\n",
              " 'than': 69,\n",
              " 'its': 70,\n",
              " 'can': 71,\n",
              " 'so': 72,\n",
              " 'into': 73,\n",
              " 'when': 74,\n",
              " 'other': 75,\n",
              " 'only': 76,\n",
              " '!': 77,\n",
              " 'time': 78,\n",
              " 'could': 79,\n",
              " 'if': 80,\n",
              " 'what': 81,\n",
              " 'some': 82,\n",
              " 'But': 83,\n",
              " 'A': 84,\n",
              " 'any': 85,\n",
              " 'do': 86,\n",
              " 'two': 87,\n",
              " 'may': 88,\n",
              " 'these': 89,\n",
              " 'like': 90,\n",
              " 'first': 91,\n",
              " 'over': 92,\n",
              " 'such': 93,\n",
              " 'This': 94,\n",
              " 'me': 95,\n",
              " 'man': 96,\n",
              " 'our': 97,\n",
              " 'my': 98,\n",
              " 'made': 99,\n",
              " 'most': 100,\n",
              " 'then': 101,\n",
              " 'new': 102,\n",
              " 'now': 103,\n",
              " 'must': 104,\n",
              " 'Af': 105,\n",
              " 'also': 106,\n",
              " 'even': 107,\n",
              " 'did': 108,\n",
              " 'through': 109,\n",
              " 'before': 110,\n",
              " 'And': 111,\n",
              " 'years': 112,\n",
              " 'She': 113,\n",
              " 'back': 114,\n",
              " 'down': 115,\n",
              " 'much': 116,\n",
              " 'many': 117,\n",
              " 'They': 118,\n",
              " 'way': 119,\n",
              " 'your': 120,\n",
              " 'There': 121,\n",
              " 'should': 122,\n",
              " 'where': 123,\n",
              " 'Mr.': 124,\n",
              " 'after': 125,\n",
              " 'little': 126,\n",
              " 'people': 127,\n",
              " 'own': 128,\n",
              " 'too': 129,\n",
              " 'because': 130,\n",
              " 'those': 131,\n",
              " 'make': 132,\n",
              " 'each': 133,\n",
              " 'well': 134,\n",
              " 'very': 135,\n",
              " 'good': 136,\n",
              " 'men': 137,\n",
              " 'If': 138,\n",
              " 'work': 139,\n",
              " 'get': 140,\n",
              " 'between': 141,\n",
              " 'still': 142,\n",
              " 'just': 143,\n",
              " 'long': 144,\n",
              " 'being': 145,\n",
              " 'might': 146,\n",
              " 'see': 147,\n",
              " 'same': 148,\n",
              " 'world': 149,\n",
              " 'both': 150,\n",
              " 'life': 151,\n",
              " 'We': 152,\n",
              " 'us': 153,\n",
              " 'never': 154,\n",
              " 'day': 155,\n",
              " 'under': 156,\n",
              " 'how': 157,\n",
              " 'know': 158,\n",
              " 'off': 159,\n",
              " 'year': 160,\n",
              " 'last': 161,\n",
              " 'used': 162,\n",
              " 'For': 163,\n",
              " 'great': 164,\n",
              " 'here': 165,\n",
              " 'go': 166,\n",
              " 'came': 167,\n",
              " 'himself': 168,\n",
              " 'take': 169,\n",
              " 'against': 170,\n",
              " 'When': 171,\n",
              " 'few': 172,\n",
              " 'old': 173,\n",
              " 'come': 174,\n",
              " 'three': 175,\n",
              " 'New': 176,\n",
              " 'right': 177,\n",
              " 'another': 178,\n",
              " 'use': 179,\n",
              " 'American': 180,\n",
              " 'found': 181,\n",
              " 'while': 182,\n",
              " 'around': 183,\n",
              " 'state': 184,\n",
              " 'As': 185,\n",
              " 'Mrs.': 186,\n",
              " 'small': 187,\n",
              " 'thought': 188,\n",
              " 'without': 189,\n",
              " 'place': 190,\n",
              " 'again': 191,\n",
              " 'home': 192,\n",
              " 'His': 193,\n",
              " '1': 194,\n",
              " 'What': 195,\n",
              " 'You': 196,\n",
              " 'went': 197,\n",
              " 'say': 198,\n",
              " 'high': 199,\n",
              " 'part': 200,\n",
              " 'number': 201,\n",
              " 'upon': 202,\n",
              " 'left': 203,\n",
              " 'got': 204,\n",
              " 'course': 205,\n",
              " 'United': 206,\n",
              " 'put': 207,\n",
              " 'since': 208,\n",
              " 'always': 209,\n",
              " 'away': 210,\n",
              " 'fact': 211,\n",
              " 'does': 212,\n",
              " 'during': 213,\n",
              " 'every': 214,\n",
              " 'less': 215,\n",
              " '2': 216,\n",
              " 'enough': 217,\n",
              " 'something': 218,\n",
              " 'water': 219,\n",
              " 'once': 220,\n",
              " 'States': 221,\n",
              " 'think': 222,\n",
              " 'until': 223,\n",
              " 'To': 224,\n",
              " 'One': 225,\n",
              " 'took': 226,\n",
              " 'night': 227,\n",
              " 'school': 228,\n",
              " 'end': 229,\n",
              " 'head': 230,\n",
              " 'hand': 231,\n",
              " 'knew': 232,\n",
              " 'set': 233,\n",
              " 'almost': 234,\n",
              " 'better': 235,\n",
              " 'find': 236,\n",
              " 'At': 237,\n",
              " 'system': 238,\n",
              " \"don't\": 239,\n",
              " 'public': 240,\n",
              " 'far': 241,\n",
              " 'told': 242,\n",
              " 'days': 243,\n",
              " 'going': 244,\n",
              " 'possible': 245,\n",
              " \"didn't\": 246,\n",
              " 'later': 247,\n",
              " 'business': 248,\n",
              " 'given': 249,\n",
              " 'No': 250,\n",
              " 'per': 251,\n",
              " 'called': 252,\n",
              " 'house': 253,\n",
              " 'however': 254,\n",
              " 'important': 255,\n",
              " 'asked': 256,\n",
              " 'toward': 257,\n",
              " 'side': 258,\n",
              " 'eyes': 259,\n",
              " 'face': 260,\n",
              " 'become': 261,\n",
              " 'present': 262,\n",
              " 'form': 263,\n",
              " 'often': 264,\n",
              " 'case': 265,\n",
              " 'social': 266,\n",
              " 'That': 267,\n",
              " 'looked': 268,\n",
              " 'point': 269,\n",
              " 'best': 270,\n",
              " 'These': 271,\n",
              " 'nothing': 272,\n",
              " 'John': 273,\n",
              " 'look': 274,\n",
              " 'give': 275,\n",
              " 'order': 276,\n",
              " 'things': 277,\n",
              " 'large': 278,\n",
              " 'felt': 279,\n",
              " 'Then': 280,\n",
              " 'room': 281,\n",
              " 'need': 282,\n",
              " 'group': 283,\n",
              " 'young': 284,\n",
              " 'saw': 285,\n",
              " 'along': 286,\n",
              " 'next': 287,\n",
              " 'though': 288,\n",
              " 'program': 289,\n",
              " 'ever': 290,\n",
              " 'want': 291,\n",
              " 'least': 292,\n",
              " 'children': 293,\n",
              " 'On': 294,\n",
              " 'second': 295,\n",
              " 'rather': 296,\n",
              " 'several': 297,\n",
              " 'began': 298,\n",
              " 'big': 299,\n",
              " 'early': 300,\n",
              " 'four': 301,\n",
              " 'Of': 302,\n",
              " 'done': 303,\n",
              " 'seemed': 304,\n",
              " 'itself': 305,\n",
              " 'thing': 306,\n",
              " 'country': 307,\n",
              " 'area': 308,\n",
              " 'power': 309,\n",
              " 'turned': 310,\n",
              " 'interest': 311,\n",
              " \"'\": 312,\n",
              " 'sense': 313,\n",
              " 'mind': 314,\n",
              " 'door': 315,\n",
              " 'members': 316,\n",
              " 'let': 317,\n",
              " 'within': 318,\n",
              " 'matter': 319,\n",
              " 'different': 320,\n",
              " 'development': 321,\n",
              " 'war': 322,\n",
              " 'action': 323,\n",
              " 'certain': 324,\n",
              " 'problem': 325,\n",
              " 'general': 326,\n",
              " 'means': 327,\n",
              " 'light': 328,\n",
              " 'family': 329,\n",
              " 'human': 330,\n",
              " 'open': 331,\n",
              " 'kind': 332,\n",
              " 'York': 333,\n",
              " 'line': 334,\n",
              " 'All': 335,\n",
              " 'hands': 336,\n",
              " 'feet': 337,\n",
              " 'among': 338,\n",
              " 'example': 339,\n",
              " 'help': 340,\n",
              " 'others': 341,\n",
              " 'quite': 342,\n",
              " 'past': 343,\n",
              " 'Now': 344,\n",
              " 'God': 345,\n",
              " 'themselves': 346,\n",
              " 'taken': 347,\n",
              " 'gave': 348,\n",
              " 'show': 349,\n",
              " 'name': 350,\n",
              " 'yet': 351,\n",
              " 'whole': 352,\n",
              " 'experience': 353,\n",
              " \"I'm\": 354,\n",
              " '3': 355,\n",
              " 'death': 356,\n",
              " 'government': 357,\n",
              " 'law': 358,\n",
              " 'body': 359,\n",
              " 'times': 360,\n",
              " 'car': 361,\n",
              " 'week': 362,\n",
              " 'across': 363,\n",
              " 'local': 364,\n",
              " 'either': 365,\n",
              " 'whether': 366,\n",
              " 'period': 367,\n",
              " 'above': 368,\n",
              " 'whose': 369,\n",
              " 'history': 370,\n",
              " 'words': 371,\n",
              " 'together': 372,\n",
              " 'seen': 373,\n",
              " 'held': 374,\n",
              " 'known': 375,\n",
              " 'anything': 376,\n",
              " 'With': 377,\n",
              " 'today': 378,\n",
              " 'information': 379,\n",
              " 'cannot': 380,\n",
              " 'President': 381,\n",
              " 'State': 382,\n",
              " 'already': 383,\n",
              " 'seems': 384,\n",
              " 'money': 385,\n",
              " 'half': 386,\n",
              " 'really': 387,\n",
              " 'political': 388,\n",
              " 'real': 389,\n",
              " 'special': 390,\n",
              " 'city': 391,\n",
              " 'making': 392,\n",
              " 'five': 393,\n",
              " 'keep': 394,\n",
              " 'shall': 395,\n",
              " 'field': 396,\n",
              " 'tell': 397,\n",
              " 'word': 398,\n",
              " 'moment': 399,\n",
              " 'major': 400,\n",
              " 'change': 401,\n",
              " 'white': 402,\n",
              " 'question': 403,\n",
              " 'reason': 404,\n",
              " 'brought': 405,\n",
              " 'wanted': 406,\n",
              " 'available': 407,\n",
              " 'So': 408,\n",
              " 'why': 409,\n",
              " 'wife': 410,\n",
              " 'position': 411,\n",
              " 'After': 412,\n",
              " 'having': 413,\n",
              " 'sure': 414,\n",
              " 'free': 415,\n",
              " 'seem': 416,\n",
              " 'problems': 417,\n",
              " 'service': 418,\n",
              " 'heard': 419,\n",
              " 'study': 420,\n",
              " 'am': 421,\n",
              " 'areas': 422,\n",
              " 'cost': 423,\n",
              " 'became': 424,\n",
              " 'boy': 425,\n",
              " 'behind': 426,\n",
              " 'ago': 427,\n",
              " 'result': 428,\n",
              " 'probably': 429,\n",
              " 'voice': 430,\n",
              " 'level': 431,\n",
              " 'An': 432,\n",
              " 'close': 433,\n",
              " 'love': 434,\n",
              " 'perhaps': 435,\n",
              " 'clear': 436,\n",
              " 'policy': 437,\n",
              " 'woman': 438,\n",
              " 'turn': 439,\n",
              " 'stood': 440,\n",
              " 'national': 441,\n",
              " 'feel': 442,\n",
              " 'full': 443,\n",
              " 'able': 444,\n",
              " 'individual': 445,\n",
              " 'company': 446,\n",
              " 'job': 447,\n",
              " 'common': 448,\n",
              " 'short': 449,\n",
              " 'necessary': 450,\n",
              " 'How': 451,\n",
              " 'Some': 452,\n",
              " 'process': 453,\n",
              " 'future': 454,\n",
              " 'true': 455,\n",
              " 'value': 456,\n",
              " 'Miss': 457,\n",
              " 'economic': 458,\n",
              " 'morning': 459,\n",
              " 'community': 460,\n",
              " 'control': 461,\n",
              " 'front': 462,\n",
              " 'Washington': 463,\n",
              " 'provide': 464,\n",
              " 'age': 465,\n",
              " 'effect': 466,\n",
              " 'total': 467,\n",
              " 'office': 468,\n",
              " 'air': 469,\n",
              " 'girl': 470,\n",
              " 'run': 471,\n",
              " 'lines': 472,\n",
              " 'church': 473,\n",
              " 'believe': 474,\n",
              " 'rate': 475,\n",
              " '4': 476,\n",
              " 'outside': 477,\n",
              " 'million': 478,\n",
              " 'although': 479,\n",
              " 'started': 480,\n",
              " 'Dr.': 481,\n",
              " 'type': 482,\n",
              " 'six': 483,\n",
              " 'sound': 484,\n",
              " 'hard': 485,\n",
              " 'minutes': 486,\n",
              " 'top': 487,\n",
              " 'mean': 488,\n",
              " 'child': 489,\n",
              " 'increase': 490,\n",
              " 'art': 491,\n",
              " 'General': 492,\n",
              " 'says': 493,\n",
              " 'personal': 494,\n",
              " 'land': 495,\n",
              " 'gone': 496,\n",
              " 'strong': 497,\n",
              " 'idea': 498,\n",
              " 'music': 499,\n",
              " 'town': 500,\n",
              " 'West': 501,\n",
              " 'force': 502,\n",
              " 'century': 503,\n",
              " 'nature': 504,\n",
              " 'alone': 505,\n",
              " 'situation': 506,\n",
              " 'values': 507,\n",
              " 'greater': 508,\n",
              " 'months': 509,\n",
              " 'living': 510,\n",
              " 'By': 511,\n",
              " 'private': 512,\n",
              " 'wrote': 513,\n",
              " 'surface': 514,\n",
              " 'various': 515,\n",
              " 'military': 516,\n",
              " 'mother': 517,\n",
              " 'Even': 518,\n",
              " 'longer': 519,\n",
              " 'moved': 520,\n",
              " 'evidence': 521,\n",
              " 'following': 522,\n",
              " 'return': 523,\n",
              " 'pressure': 524,\n",
              " 'English': 525,\n",
              " 'book': 526,\n",
              " 'further': 527,\n",
              " 'near': 528,\n",
              " 'party': 529,\n",
              " 'plan': 530,\n",
              " 'late': 531,\n",
              " 'America': 532,\n",
              " 'person': 533,\n",
              " 'complete': 534,\n",
              " 'cut': 535,\n",
              " 'Not': 536,\n",
              " 'hope': 537,\n",
              " 'play': 538,\n",
              " 'call': 539,\n",
              " 'needed': 540,\n",
              " 'basis': 541,\n",
              " 'education': 542,\n",
              " 'material': 543,\n",
              " 'students': 544,\n",
              " 'particular': 545,\n",
              " 'view': 546,\n",
              " 'tax': 547,\n",
              " 'required': 548,\n",
              " 'House': 549,\n",
              " 'expected': 550,\n",
              " 'makes': 551,\n",
              " 'conditions': 552,\n",
              " 'kept': 553,\n",
              " 'fire': 554,\n",
              " 'leave': 555,\n",
              " 'society': 556,\n",
              " 'except': 557,\n",
              " 'road': 558,\n",
              " 'South': 559,\n",
              " \"I'll\": 560,\n",
              " 'center': 561,\n",
              " 'dark': 562,\n",
              " 'reached': 563,\n",
              " 'support': 564,\n",
              " 'usually': 565,\n",
              " 'inside': 566,\n",
              " 'women': 567,\n",
              " 'attention': 568,\n",
              " 'amount': 569,\n",
              " 'third': 570,\n",
              " 'read': 571,\n",
              " 'schools': 572,\n",
              " 'live': 573,\n",
              " 'modern': 574,\n",
              " 'especially': 575,\n",
              " 'board': 576,\n",
              " 'father': 577,\n",
              " 'received': 578,\n",
              " 'soon': 579,\n",
              " 'However': 580,\n",
              " 'equipment': 581,\n",
              " 'simply': 582,\n",
              " 'Since': 583,\n",
              " 'Thus': 584,\n",
              " 'Why': 585,\n",
              " 'class': 586,\n",
              " 'ground': 587,\n",
              " 'picture': 588,\n",
              " 'lost': 589,\n",
              " 'single': 590,\n",
              " 'pay': 591,\n",
              " 'stage': 592,\n",
              " 'hundred': 593,\n",
              " 'including': 594,\n",
              " \"couldn't\": 595,\n",
              " 'miles': 596,\n",
              " 'figure': 597,\n",
              " 'dead': 598,\n",
              " 'black': 599,\n",
              " 'added': 600,\n",
              " 'terms': 601,\n",
              " '1960': 602,\n",
              " 'college': 603,\n",
              " 'else': 604,\n",
              " 'feeling': 605,\n",
              " 'War': 606,\n",
              " 'From': 607,\n",
              " 'hours': 608,\n",
              " 'space': 609,\n",
              " 'St.': 610,\n",
              " 'bring': 611,\n",
              " 'heart': 612,\n",
              " 'recent': 613,\n",
              " 'sort': 614,\n",
              " 'sometimes': 615,\n",
              " 'everything': 616,\n",
              " 'looking': 617,\n",
              " 'industry': 618,\n",
              " 'natural': 619,\n",
              " \"can't\": 620,\n",
              " 'religious': 621,\n",
              " 'Department': 622,\n",
              " 'developed': 623,\n",
              " 'England': 624,\n",
              " 'entire': 625,\n",
              " 'subject': 626,\n",
              " 'data': 627,\n",
              " 'higher': 628,\n",
              " \"It's\": 629,\n",
              " 'cold': 630,\n",
              " 'hear': 631,\n",
              " 'tried': 632,\n",
              " 'low': 633,\n",
              " 'difficult': 634,\n",
              " 'rest': 635,\n",
              " 'costs': 636,\n",
              " 'hold': 637,\n",
              " 'hour': 638,\n",
              " 'beyond': 639,\n",
              " 'beginning': 640,\n",
              " 'simple': 641,\n",
              " 'shown': 642,\n",
              " 'cent': 643,\n",
              " 'move': 644,\n",
              " 'Government': 645,\n",
              " 'range': 646,\n",
              " 'meeting': 647,\n",
              " 'spirit': 648,\n",
              " 'basic': 649,\n",
              " 'states': 650,\n",
              " 'Secretary': 651,\n",
              " 'property': 652,\n",
              " 'doing': 653,\n",
              " 'followed': 654,\n",
              " 'walked': 655,\n",
              " 'growth': 656,\n",
              " 'working': 657,\n",
              " 'act': 658,\n",
              " 'stand': 659,\n",
              " 'difference': 660,\n",
              " 'paper': 661,\n",
              " 'Congress': 662,\n",
              " 'due': 663,\n",
              " 'answer': 664,\n",
              " '&': 665,\n",
              " \"wasn't\": 666,\n",
              " 'report': 667,\n",
              " 'getting': 668,\n",
              " 'floor': 669,\n",
              " 'taking': 670,\n",
              " 'nor': 671,\n",
              " 'needs': 672,\n",
              " 'U.S.': 673,\n",
              " 'passed': 674,\n",
              " 'ideas': 675,\n",
              " 'cases': 676,\n",
              " 'coming': 677,\n",
              " 'knowledge': 678,\n",
              " 'reading': 679,\n",
              " 'countries': 680,\n",
              " 'therefore': 681,\n",
              " 'purpose': 682,\n",
              " 'lay': 683,\n",
              " 'talk': 684,\n",
              " 'My': 685,\n",
              " 'similar': 686,\n",
              " 'ten': 687,\n",
              " 'foreign': 688,\n",
              " 'letter': 689,\n",
              " 'thinking': 690,\n",
              " 'Kennedy': 691,\n",
              " 'care': 692,\n",
              " 'earlier': 693,\n",
              " 'likely': 694,\n",
              " 'hair': 695,\n",
              " 'understand': 696,\n",
              " 'addition': 697,\n",
              " 'forces': 698,\n",
              " 'happened': 699,\n",
              " '10': 700,\n",
              " 'sat': 701,\n",
              " 'trying': 702,\n",
              " 'girls': 703,\n",
              " 'Her': 704,\n",
              " 'story': 705,\n",
              " 'population': 706,\n",
              " 'Yet': 707,\n",
              " 'directly': 708,\n",
              " 'building': 709,\n",
              " 'using': 710,\n",
              " 'ready': 711,\n",
              " '5': 712,\n",
              " 'final': 713,\n",
              " 'training': 714,\n",
              " 'strength': 715,\n",
              " 'friends': 716,\n",
              " 'chance': 717,\n",
              " 'moral': 718,\n",
              " 'methods': 719,\n",
              " 'direction': 720,\n",
              " 'meet': 721,\n",
              " 'paid': 722,\n",
              " 'street': 723,\n",
              " 'wall': 724,\n",
              " 'food': 725,\n",
              " 'research': 726,\n",
              " 'table': 727,\n",
              " 'increased': 728,\n",
              " 'considered': 729,\n",
              " 'William': 730,\n",
              " 'showed': 731,\n",
              " 'questions': 732,\n",
              " 'involved': 733,\n",
              " 'Christian': 734,\n",
              " 'decided': 735,\n",
              " 'weeks': 736,\n",
              " 'trouble': 737,\n",
              " 'son': 738,\n",
              " 'start': 739,\n",
              " 'fine': 740,\n",
              " 'section': 741,\n",
              " 'lead': 742,\n",
              " 'summer': 743,\n",
              " 'led': 744,\n",
              " 'statement': 745,\n",
              " 'worked': 746,\n",
              " 'National': 747,\n",
              " 'normal': 748,\n",
              " 'size': 749,\n",
              " 'sent': 750,\n",
              " 'appeared': 751,\n",
              " 'whom': 752,\n",
              " 'Island': 753,\n",
              " 'record': 754,\n",
              " 'City': 755,\n",
              " 'below': 756,\n",
              " 'During': 757,\n",
              " 'programs': 758,\n",
              " 'met': 759,\n",
              " 'North': 760,\n",
              " \"it's\": 761,\n",
              " 'wrong': 762,\n",
              " 'Soviet': 763,\n",
              " 'effort': 764,\n",
              " 'concerned': 765,\n",
              " 'Just': 766,\n",
              " 'fall': 767,\n",
              " 'thus': 768,\n",
              " 'beautiful': 769,\n",
              " 'list': 770,\n",
              " 'member': 771,\n",
              " 'meaning': 772,\n",
              " 'Well': 773,\n",
              " 'manner': 774,\n",
              " 'peace': 775,\n",
              " 'trade': 776,\n",
              " 'color': 777,\n",
              " 'piece': 778,\n",
              " 'particularly': 779,\n",
              " 'stock': 780,\n",
              " 'physical': 781,\n",
              " 'month': 782,\n",
              " 'effective': 783,\n",
              " 'husband': 784,\n",
              " 'market': 785,\n",
              " 'finally': 786,\n",
              " 'written': 787,\n",
              " 'services': 788,\n",
              " 'results': 789,\n",
              " 'boys': 790,\n",
              " 'Although': 791,\n",
              " 'throughout': 792,\n",
              " '1961': 793,\n",
              " 'Here': 794,\n",
              " 'merely': 795,\n",
              " 'provided': 796,\n",
              " 'nearly': 797,\n",
              " 'carried': 798,\n",
              " 'points': 799,\n",
              " 'literature': 800,\n",
              " 'influence': 801,\n",
              " 'learned': 802,\n",
              " 'defense': 803,\n",
              " 'truth': 804,\n",
              " 'placed': 805,\n",
              " 'anyone': 806,\n",
              " 'president': 807,\n",
              " 'bad': 808,\n",
              " 'types': 809,\n",
              " 'East': 810,\n",
              " 'issue': 811,\n",
              " 'degree': 812,\n",
              " 'described': 813,\n",
              " 'production': 814,\n",
              " 'French': 815,\n",
              " 'lot': 816,\n",
              " 'deal': 817,\n",
              " 'square': 818,\n",
              " 'try': 819,\n",
              " 'ask': 820,\n",
              " 'clearly': 821,\n",
              " 'stopped': 822,\n",
              " 'police': 823,\n",
              " 'systems': 824,\n",
              " 'myself': 825,\n",
              " 'aid': 826,\n",
              " 'former': 827,\n",
              " 'changes': 828,\n",
              " 'actually': 829,\n",
              " 'comes': 830,\n",
              " 'account': 831,\n",
              " 'direct': 832,\n",
              " 'sales': 833,\n",
              " 'red': 834,\n",
              " 'continued': 835,\n",
              " 'University': 836,\n",
              " 'instead': 837,\n",
              " 'method': 838,\n",
              " \"I've\": 839,\n",
              " 'opened': 840,\n",
              " 'game': 841,\n",
              " 'arms': 842,\n",
              " 'ways': 843,\n",
              " \"wouldn't\": 844,\n",
              " 'note': 845,\n",
              " 'distance': 846,\n",
              " 'freedom': 847,\n",
              " 'activity': 848,\n",
              " 'Aj': 849,\n",
              " 'S.': 850,\n",
              " 'nation': 851,\n",
              " 'C': 852,\n",
              " 'Church': 853,\n",
              " 'function': 854,\n",
              " 'decision': 855,\n",
              " 'average': 856,\n",
              " 'medical': 857,\n",
              " 'reaction': 858,\n",
              " 'wide': 859,\n",
              " 'hot': 860,\n",
              " 'groups': 861,\n",
              " 'lower': 862,\n",
              " 'Federal': 863,\n",
              " 'technical': 864,\n",
              " 'immediately': 865,\n",
              " '30': 866,\n",
              " 'returned': 867,\n",
              " 'ran': 868,\n",
              " 'bed': 869,\n",
              " 'writing': 870,\n",
              " 'hit': 871,\n",
              " 'movement': 872,\n",
              " 'court': 873,\n",
              " 'temperature': 874,\n",
              " 'length': 875,\n",
              " 'responsibility': 876,\n",
              " 'nuclear': 877,\n",
              " 'approach': 878,\n",
              " 'evening': 879,\n",
              " 'eye': 880,\n",
              " 'George': 881,\n",
              " 'larger': 882,\n",
              " 'generally': 883,\n",
              " 'theory': 884,\n",
              " 'blood': 885,\n",
              " 'parts': 886,\n",
              " 'couple': 887,\n",
              " 'numbers': 888,\n",
              " 'somewhat': 889,\n",
              " 'steps': 890,\n",
              " 'respect': 891,\n",
              " 'treatment': 892,\n",
              " 'suddenly': 893,\n",
              " 'farm': 894,\n",
              " 'charge': 895,\n",
              " 'J.': 896,\n",
              " 'series': 897,\n",
              " 'cause': 898,\n",
              " 'understanding': 899,\n",
              " 'opportunity': 900,\n",
              " 'choice': 901,\n",
              " 'Brown': 902,\n",
              " 'remember': 903,\n",
              " 'ones': 904,\n",
              " 'effects': 905,\n",
              " 'trial': 906,\n",
              " 'earth': 907,\n",
              " 'Europe': 908,\n",
              " 'remained': 909,\n",
              " 'lived': 910,\n",
              " 'certainly': 911,\n",
              " 'forms': 912,\n",
              " 'step': 913,\n",
              " 'federal': 914,\n",
              " 'indeed': 915,\n",
              " 'horse': 916,\n",
              " '6': 917,\n",
              " 'corner': 918,\n",
              " 'works': 919,\n",
              " 'professional': 920,\n",
              " 'While': 921,\n",
              " 'fear': 922,\n",
              " 'Another': 923,\n",
              " 'heavy': 924,\n",
              " 'international': 925,\n",
              " 'activities': 926,\n",
              " 'gives': 927,\n",
              " 'pattern': 928,\n",
              " 'volume': 929,\n",
              " 'Each': 930,\n",
              " 'operation': 931,\n",
              " 'running': 932,\n",
              " 'planning': 933,\n",
              " 'moving': 934,\n",
              " 'rates': 935,\n",
              " 'consider': 936,\n",
              " 'serve': 937,\n",
              " 'obtained': 938,\n",
              " 'served': 939,\n",
              " 'efforts': 940,\n",
              " 'World': 941,\n",
              " 'First': 942,\n",
              " 'Such': 943,\n",
              " \"man's\": 944,\n",
              " 'figures': 945,\n",
              " \"won't\": 946,\n",
              " 'Act': 947,\n",
              " 'organization': 948,\n",
              " 'fiscal': 949,\n",
              " 'bit': 950,\n",
              " 'industrial': 951,\n",
              " 'character': 952,\n",
              " 'completely': 953,\n",
              " 'reported': 954,\n",
              " 'serious': 955,\n",
              " 'price': 956,\n",
              " 'herself': 957,\n",
              " 'recently': 958,\n",
              " 'forward': 959,\n",
              " 'test': 960,\n",
              " '15': 961,\n",
              " 'letters': 962,\n",
              " 'easy': 963,\n",
              " 'determined': 964,\n",
              " 'student': 965,\n",
              " 'scene': 966,\n",
              " 'include': 967,\n",
              " 'shot': 968,\n",
              " 'window': 969,\n",
              " 'slowly': 970,\n",
              " 'pool': 971,\n",
              " 'B': 972,\n",
              " 'British': 973,\n",
              " 'based': 974,\n",
              " 'easily': 975,\n",
              " 'persons': 976,\n",
              " 'born': 977,\n",
              " 'performance': 978,\n",
              " 'feed': 979,\n",
              " 'Their': 980,\n",
              " 'science': 981,\n",
              " 'hall': 982,\n",
              " 'A.': 983,\n",
              " 'visit': 984,\n",
              " 'speak': 985,\n",
              " 'plane': 986,\n",
              " 'quality': 987,\n",
              " 'central': 988,\n",
              " 'College': 989,\n",
              " 'write': 990,\n",
              " 'leaders': 991,\n",
              " 'importance': 992,\n",
              " 'according': 993,\n",
              " 'saying': 994,\n",
              " 'stress': 995,\n",
              " 'straight': 996,\n",
              " 'additional': 997,\n",
              " 'income': 998,\n",
              " 'doubt': 999,\n",
              " 'cities': 1000,\n",
              " ...}"
            ]
          },
          "metadata": {},
          "execution_count": 20
        }
      ]
    },
    {
      "cell_type": "code",
      "source": [
        "def flatten(list_of_lists):\n",
        "  flattened = [val for sublist in list_of_lists for val in sublist]\n",
        "  return flattened"
      ],
      "metadata": {
        "id": "3fsZaNWsF9tJ"
      },
      "execution_count": null,
      "outputs": []
    },
    {
      "cell_type": "code",
      "source": [
        "all_train_targets = set(flatten(train_targets))\n",
        "all_train_targets"
      ],
      "metadata": {
        "colab": {
          "base_uri": "https://localhost:8080/"
        },
        "id": "XZilTEdXHLKE",
        "outputId": "1953c907-b851-4a55-c45b-2b13b168c8e9"
      },
      "execution_count": null,
      "outputs": [
        {
          "output_type": "execute_result",
          "data": {
            "text/plain": [
              "{'.',\n",
              " 'ADJ',\n",
              " 'ADP',\n",
              " 'ADV',\n",
              " 'CONJ',\n",
              " 'DET',\n",
              " 'NOUN',\n",
              " 'NUM',\n",
              " 'PRON',\n",
              " 'PRT',\n",
              " 'VERB',\n",
              " 'X'}"
            ]
          },
          "metadata": {},
          "execution_count": 22
        }
      ]
    },
    {
      "cell_type": "code",
      "source": [
        "all_test_targets = set(flatten(test_targets))\n",
        "all_test_targets"
      ],
      "metadata": {
        "colab": {
          "base_uri": "https://localhost:8080/"
        },
        "id": "H8defiiNHMV3",
        "outputId": "5ae5a8c0-64d7-4d2d-ad5a-189e1f51f08f"
      },
      "execution_count": null,
      "outputs": [
        {
          "output_type": "execute_result",
          "data": {
            "text/plain": [
              "{'.',\n",
              " 'ADJ',\n",
              " 'ADP',\n",
              " 'ADV',\n",
              " 'CONJ',\n",
              " 'DET',\n",
              " 'NOUN',\n",
              " 'NUM',\n",
              " 'PRON',\n",
              " 'PRT',\n",
              " 'VERB',\n",
              " 'X'}"
            ]
          },
          "metadata": {},
          "execution_count": 23
        }
      ]
    },
    {
      "cell_type": "code",
      "source": [
        "all_train_targets == all_test_targets"
      ],
      "metadata": {
        "colab": {
          "base_uri": "https://localhost:8080/"
        },
        "id": "NqKWSc1xHNkl",
        "outputId": "8668be3d-ee3f-4a4b-d9f7-8d1ffe802a66"
      },
      "execution_count": null,
      "outputs": [
        {
          "output_type": "execute_result",
          "data": {
            "text/plain": [
              "True"
            ]
          },
          "metadata": {},
          "execution_count": 24
        }
      ]
    },
    {
      "cell_type": "code",
      "source": [
        "# Convert targets to sequences\n",
        "tag_tokenizer = Tokenizer()\n",
        "tag_tokenizer.fit_on_texts(train_targets)\n",
        "train_targets_int = tag_tokenizer.texts_to_sequences(train_targets)\n",
        "test_targets_int = tag_tokenizer.texts_to_sequences(test_targets)\n",
        "\n",
        "\n",
        "train_targets_int_unpadded = train_targets_int\n",
        "test_targets_int_unpadded = test_targets_int"
      ],
      "metadata": {
        "id": "pUTJU-tbHPEH"
      },
      "execution_count": null,
      "outputs": []
    },
    {
      "cell_type": "code",
      "source": [
        "tag_tokenizer.word_index"
      ],
      "metadata": {
        "id": "8k-Om-M08vrh",
        "outputId": "bed74022-fd0e-46c9-8856-3b825ba0b3bc",
        "colab": {
          "base_uri": "https://localhost:8080/"
        }
      },
      "execution_count": null,
      "outputs": [
        {
          "output_type": "execute_result",
          "data": {
            "text/plain": [
              "{'noun': 1,\n",
              " 'verb': 2,\n",
              " '.': 3,\n",
              " 'adp': 4,\n",
              " 'det': 5,\n",
              " 'adj': 6,\n",
              " 'adv': 7,\n",
              " 'pron': 8,\n",
              " 'conj': 9,\n",
              " 'prt': 10,\n",
              " 'num': 11,\n",
              " 'x': 12}"
            ]
          },
          "metadata": {},
          "execution_count": 53
        }
      ]
    },
    {
      "cell_type": "code",
      "source": [
        "train_targets[0], train_targets[1]"
      ],
      "metadata": {
        "colab": {
          "base_uri": "https://localhost:8080/"
        },
        "id": "iQPaYm1VH8ob",
        "outputId": "85ea506f-697f-4140-df88-1947bc840dfa"
      },
      "execution_count": null,
      "outputs": [
        {
          "output_type": "execute_result",
          "data": {
            "text/plain": [
              "(['DET',\n",
              "  'ADJ',\n",
              "  'NOUN',\n",
              "  'ADP',\n",
              "  'NOUN',\n",
              "  'VERB',\n",
              "  'ADV',\n",
              "  'ADJ',\n",
              "  'ADJ',\n",
              "  'ADP',\n",
              "  'DET',\n",
              "  'NOUN',\n",
              "  '.'],\n",
              " ['DET', 'NOUN', 'VERB', 'VERB', 'VERB', 'ADJ', 'ADV', '.'])"
            ]
          },
          "metadata": {},
          "execution_count": 51
        }
      ]
    },
    {
      "cell_type": "code",
      "source": [
        "train_targets_int_unpadded[0], train_targets_int_unpadded[1], train_targets_int_unpadded[1]"
      ],
      "metadata": {
        "colab": {
          "base_uri": "https://localhost:8080/"
        },
        "id": "fc4sm04ZH0cB",
        "outputId": "d0028150-3edb-4f68-f1e0-42d673a6c9a4"
      },
      "execution_count": null,
      "outputs": [
        {
          "output_type": "execute_result",
          "data": {
            "text/plain": [
              "([5, 6, 1, 4, 1, 2, 7, 6, 6, 4, 5, 1, 3], [5, 1, 2, 2, 2, 6, 7, 3])"
            ]
          },
          "metadata": {},
          "execution_count": 52
        }
      ]
    },
    {
      "cell_type": "code",
      "source": [
        "# before padding, find max document length\n",
        "# because we don't want to truncate any inputs\n",
        "# which would also truncate targets\n",
        "maxlen_train = max(len(sent) for sent in train_inputs)\n",
        "maxlen_test = max(len(sent) for sent in test_inputs)\n",
        "T = max((maxlen_train, maxlen_test))"
      ],
      "metadata": {
        "id": "I60wKWBcHoEQ"
      },
      "execution_count": null,
      "outputs": []
    },
    {
      "cell_type": "code",
      "source": [
        "# pad sequences so that we get a N x T matrix\n",
        "train_inputs_int = pad_sequences(train_inputs_int, maxlen=T)\n",
        "print('Shape of data train tensor:', train_inputs_int.shape)"
      ],
      "metadata": {
        "colab": {
          "base_uri": "https://localhost:8080/"
        },
        "id": "94GayMp8Hv_e",
        "outputId": "7b0ef5f2-6c20-4643-b9cb-5bec65a903e1"
      },
      "execution_count": null,
      "outputs": [
        {
          "output_type": "stream",
          "name": "stdout",
          "text": [
            "Shape of data train tensor: (40138, 180)\n"
          ]
        }
      ]
    },
    {
      "cell_type": "code",
      "source": [
        "test_inputs_int = pad_sequences(test_inputs_int, maxlen=T)\n",
        "print('Shape of data test tensor:', test_inputs_int.shape)"
      ],
      "metadata": {
        "colab": {
          "base_uri": "https://localhost:8080/"
        },
        "id": "3R2xJyISJHCR",
        "outputId": "fcfb5379-0060-4727-8045-e73a59f59c7f"
      },
      "execution_count": null,
      "outputs": [
        {
          "output_type": "stream",
          "name": "stdout",
          "text": [
            "Shape of data test tensor: (17202, 180)\n"
          ]
        }
      ]
    },
    {
      "cell_type": "code",
      "source": [
        "train_targets_int = pad_sequences(train_targets_int, maxlen=T)\n",
        "print('Shape of train targets tensor:', train_targets_int.shape)"
      ],
      "metadata": {
        "colab": {
          "base_uri": "https://localhost:8080/"
        },
        "id": "ddpw_fJJJIbr",
        "outputId": "9547eb1e-f2f6-42a8-9ff8-0b6a6fa37ad7"
      },
      "execution_count": null,
      "outputs": [
        {
          "output_type": "stream",
          "name": "stdout",
          "text": [
            "Shape of train targets tensor: (40138, 180)\n"
          ]
        }
      ]
    },
    {
      "cell_type": "code",
      "source": [
        "test_targets_int = pad_sequences(test_targets_int, maxlen=T)\n",
        "print('Shape of test targets tensor:', test_targets_int.shape)"
      ],
      "metadata": {
        "colab": {
          "base_uri": "https://localhost:8080/"
        },
        "id": "Uec2_9UQJPfh",
        "outputId": "edfcb25b-004a-477b-a3f0-1d8f6719b91c"
      },
      "execution_count": null,
      "outputs": [
        {
          "output_type": "stream",
          "name": "stdout",
          "text": [
            "Shape of test targets tensor: (17202, 180)\n"
          ]
        }
      ]
    },
    {
      "cell_type": "code",
      "source": [
        "# number of classes\n",
        "K = len(tag_tokenizer.word_index) + 1\n",
        "K"
      ],
      "metadata": {
        "colab": {
          "base_uri": "https://localhost:8080/"
        },
        "id": "Se3dfg9JJXYX",
        "outputId": "54507bbe-0999-4c68-a168-90118187cf89"
      },
      "execution_count": null,
      "outputs": [
        {
          "output_type": "execute_result",
          "data": {
            "text/plain": [
              "13"
            ]
          },
          "metadata": {},
          "execution_count": 33
        }
      ]
    },
    {
      "cell_type": "code",
      "source": [
        "# Creating the model\n",
        "\n",
        "D = 32\n",
        "\n",
        "i = Input(shape=(T,))\n",
        "x = Embedding(V + 1, D, mask_zero=True)(i)\n",
        "x = Bidirectional(LSTM(32, return_sequences=True))(x)\n",
        "x = Dense(K)(x)\n",
        "\n",
        "model = Model(i, x)"
      ],
      "metadata": {
        "id": "RKJgBJVhJefv"
      },
      "execution_count": null,
      "outputs": []
    },
    {
      "cell_type": "code",
      "source": [
        "# Compile and fit\n",
        "model.compile(\n",
        "  loss=SparseCategoricalCrossentropy(from_logits=True),\n",
        "  optimizer='adam',\n",
        "  metrics=['accuracy']\n",
        ")\n",
        "\n",
        "print('Training model...')\n",
        "r = model.fit(\n",
        "  train_inputs_int,\n",
        "  train_targets_int,\n",
        "  epochs=5,\n",
        "  validation_data=(test_inputs_int, test_targets_int)\n",
        ")"
      ],
      "metadata": {
        "colab": {
          "base_uri": "https://localhost:8080/"
        },
        "id": "9k6ehO_eJxHc",
        "outputId": "4a8e7229-f24a-4a7c-98ca-78bc3a71ef1f"
      },
      "execution_count": null,
      "outputs": [
        {
          "output_type": "stream",
          "name": "stdout",
          "text": [
            "Training model...\n",
            "Epoch 1/5\n",
            "1255/1255 [==============================] - 1169s 921ms/step - loss: 0.4726 - accuracy: 0.8587 - val_loss: 0.1127 - val_accuracy: 0.9651\n",
            "Epoch 2/5\n",
            "1255/1255 [==============================] - 1109s 884ms/step - loss: 0.0710 - accuracy: 0.9779 - val_loss: 0.0925 - val_accuracy: 0.9696\n",
            "Epoch 3/5\n",
            "1255/1255 [==============================] - 1111s 885ms/step - loss: 0.0446 - accuracy: 0.9858 - val_loss: 0.0891 - val_accuracy: 0.9711\n",
            "Epoch 4/5\n",
            "1255/1255 [==============================] - 1101s 878ms/step - loss: 0.0335 - accuracy: 0.9894 - val_loss: 0.0894 - val_accuracy: 0.9719\n",
            "Epoch 5/5\n",
            "1255/1255 [==============================] - 1058s 843ms/step - loss: 0.0260 - accuracy: 0.9917 - val_loss: 0.0931 - val_accuracy: 0.9721\n"
          ]
        }
      ]
    },
    {
      "cell_type": "code",
      "source": [
        "# Ploting loss per iteration\n",
        "plt.plot(r.history['loss'], label='train loss')\n",
        "plt.plot(r.history['val_loss'], label='val loss')\n",
        "plt.legend();"
      ],
      "metadata": {
        "colab": {
          "base_uri": "https://localhost:8080/",
          "height": 430
        },
        "id": "PpevfACDJ6P6",
        "outputId": "b8a30fff-9ab5-4755-856b-72308c7bfca5"
      },
      "execution_count": null,
      "outputs": [
        {
          "output_type": "display_data",
          "data": {
            "text/plain": [
              "<Figure size 640x480 with 1 Axes>"
            ],
            "image/png": "[encoded data removed]"
          },
          "metadata": {}
        }
      ]
    },
    {
      "cell_type": "code",
      "source": [
        "# Ploting accuracy per iteration\n",
        "plt.plot(r.history['accuracy'], label='train acc')\n",
        "plt.plot(r.history['val_accuracy'], label='val acc')\n",
        "plt.legend();"
      ],
      "metadata": {
        "colab": {
          "base_uri": "https://localhost:8080/",
          "height": 430
        },
        "id": "i_Txy8-7UBR_",
        "outputId": "74cf16f2-1c54-43cb-887e-e5c8ec778a00"
      },
      "execution_count": null,
      "outputs": [
        {
          "output_type": "display_data",
          "data": {
            "text/plain": [
              "<Figure size 640x480 with 1 Axes>"
            ],
            "image/png": "[encoded data removed]"
          },
          "metadata": {}
        }
      ]
    },
    {
      "cell_type": "code",
      "source": [
        "# True model accuracy - above includes padding\n",
        "train_lengths = []\n",
        "for sentence in train_inputs:\n",
        "  train_lengths.append(len(sentence))\n",
        "\n",
        "test_lengths = []\n",
        "for sentence in test_inputs:\n",
        "  test_lengths.append(len(sentence))"
      ],
      "metadata": {
        "id": "THCxUqK6er5K"
      },
      "execution_count": null,
      "outputs": []
    },
    {
      "cell_type": "code",
      "source": [
        "train_probs = model.predict(train_inputs_int) # N x T x K"
      ],
      "metadata": {
        "colab": {
          "base_uri": "https://localhost:8080/"
        },
        "id": "7HRfWeryevRZ",
        "outputId": "568542c2-8ca4-4a00-bbb4-103b02f07a88"
      },
      "execution_count": null,
      "outputs": [
        {
          "output_type": "stream",
          "name": "stdout",
          "text": [
            "1255/1255 [==============================] - 104s 80ms/step\n"
          ]
        }
      ]
    },
    {
      "cell_type": "code",
      "source": [
        "train_predictions = []\n",
        "for probs, length in zip(train_probs, train_lengths):\n",
        "  probs_ = probs[-length:]\n",
        "  preds = np.argmax(probs_, axis=1)\n",
        "  train_predictions.append(preds)\n",
        "\n",
        "flat_train_predictions = flatten(train_predictions)\n",
        "flat_train_targets = flatten(train_targets_int_unpadded)"
      ],
      "metadata": {
        "id": "iP1ke-3Be0DY"
      },
      "execution_count": null,
      "outputs": []
    },
    {
      "cell_type": "code",
      "source": [
        "test_probs = model.predict(test_inputs_int) # N x T x K"
      ],
      "metadata": {
        "colab": {
          "base_uri": "https://localhost:8080/"
        },
        "id": "CIdiJee8jElr",
        "outputId": "9728f9c9-26c8-4f78-842e-3df5d6fe2274"
      },
      "execution_count": null,
      "outputs": [
        {
          "output_type": "stream",
          "name": "stdout",
          "text": [
            "538/538 [==============================] - 43s 80ms/step\n"
          ]
        }
      ]
    },
    {
      "cell_type": "code",
      "source": [
        "test_predictions = []\n",
        "for probs, length in zip(test_probs, test_lengths):\n",
        "  probs_ = probs[-length:]\n",
        "  preds = np.argmax(probs_, axis=1)\n",
        "  test_predictions.append(preds)\n",
        "\n",
        "flat_test_predictions = flatten(test_predictions)\n",
        "flat_test_targets = flatten(test_targets_int_unpadded)"
      ],
      "metadata": {
        "id": "y2zqiMaDjHAt"
      },
      "execution_count": null,
      "outputs": []
    },
    {
      "cell_type": "code",
      "source": [
        "from sklearn.metrics import accuracy_score, f1_score\n",
        "\n",
        "print(\"Train acc:\", accuracy_score(flat_train_targets, flat_train_predictions))\n",
        "print(\"Test acc:\", accuracy_score(flat_test_targets, flat_test_predictions))\n",
        "\n",
        "print(\"Train f1:\",\n",
        "      f1_score(flat_train_targets, flat_train_predictions, average='macro'))\n",
        "print(\"Test f1:\",\n",
        "      f1_score(flat_test_targets, flat_test_predictions, average='macro'))"
      ],
      "metadata": {
        "colab": {
          "base_uri": "https://localhost:8080/"
        },
        "id": "urGOX-NAjMaU",
        "outputId": "1b0a7369-f94b-442c-c4a2-1bc3e234e0b3"
      },
      "execution_count": null,
      "outputs": [
        {
          "output_type": "stream",
          "name": "stdout",
          "text": [
            "Train acc: 0.9941088893356835\n",
            "Test acc: 0.9721010388639547\n",
            "Train f1: 0.9861774700999836\n",
            "Test f1: 0.9309130974203191\n"
          ]
        }
      ]
    },
    {
      "cell_type": "code",
      "source": [
        "from collections import Counter\n",
        "\n",
        "def most_common(lst):\n",
        "  data = Counter(lst)\n",
        "  return data.most_common(1)[0][0]"
      ],
      "metadata": {
        "id": "EiCwy1xhjOi-"
      },
      "execution_count": null,
      "outputs": []
    },
    {
      "cell_type": "code",
      "source": [
        "token2tags = {k: [] for k, v in word2idx.items()}\n",
        "\n",
        "\n",
        "del token2tags['UNK']\n",
        "\n",
        "for tokens, tags in zip(train_inputs, train_targets):\n",
        "  for token, tag in zip(tokens, tags):\n",
        "    if should_lowercase:\n",
        "      token = token.lower()\n",
        "    if token in token2tags:\n",
        "      token2tags[token].append(tag)\n",
        "\n",
        "token2tag = {k: most_common(v) for k, v in token2tags.items()}"
      ],
      "metadata": {
        "id": "UYa9wBEVjQ6D"
      },
      "execution_count": null,
      "outputs": []
    },
    {
      "cell_type": "code",
      "source": [
        "\n",
        "\n",
        "train_predictions = []\n",
        "for sentence in train_inputs:\n",
        "  predictions = []\n",
        "  for token in sentence:\n",
        "    if should_lowercase:\n",
        "      token = token.lower()\n",
        "    predicted_tag = token2tag[token]\n",
        "    predictions.append(predicted_tag)\n",
        "  train_predictions.append(predictions)\n",
        "flat_train_predictions = flatten(train_predictions)\n",
        "flat_train_targets = flatten(train_targets)"
      ],
      "metadata": {
        "id": "VG_K13QpjU-V"
      },
      "execution_count": null,
      "outputs": []
    },
    {
      "cell_type": "code",
      "source": [
        "test_predictions = []\n",
        "for sentence in test_inputs:\n",
        "  predictions = []\n",
        "  for token in sentence:\n",
        "    predicted_tag = token2tag.get(token, 'INCORRECT')\n",
        "    predictions.append(predicted_tag)\n",
        "  test_predictions.append(predictions)\n",
        "flat_test_predictions = flatten(test_predictions)\n",
        "flat_test_targets = flatten(test_targets)"
      ],
      "metadata": {
        "id": "ilnuuIdsjXQP"
      },
      "execution_count": null,
      "outputs": []
    },
    {
      "cell_type": "code",
      "source": [
        "print(\"Train acc:\", accuracy_score(flat_train_targets, flat_train_predictions))\n",
        "print(\"Test acc:\", accuracy_score(flat_test_targets, flat_test_predictions))\n",
        "\n",
        "print(\"Train f1:\",\n",
        "      f1_score(flat_train_targets, flat_train_predictions, average='macro'))\n",
        "print(\"Test f1:\",\n",
        "      f1_score(flat_test_targets, flat_test_predictions, average='macro'))"
      ],
      "metadata": {
        "colab": {
          "base_uri": "https://localhost:8080/"
        },
        "id": "pOwFjkpOjZuR",
        "outputId": "70a21a1a-4a67-4ef3-ceb6-003532e73a3c"
      },
      "execution_count": null,
      "outputs": [
        {
          "output_type": "stream",
          "name": "stdout",
          "text": [
            "Train acc: 0.9572906811658379\n",
            "Test acc: 0.9273280282128173\n",
            "Train f1: 0.9370988487873229\n",
            "Test f1: 0.8257643576864147\n"
          ]
        }
      ]
    },
    {
      "cell_type": "code",
      "source": [
        "model.save('pos_tag_model.h5')"
      ],
      "metadata": {
        "id": "WexyH5CSjbob"
      },
      "execution_count": null,
      "outputs": []
    },
    {
      "cell_type": "code",
      "source": [],
      "metadata": {
        "id": "n6cvJzaMkRoq"
      },
      "execution_count": null,
      "outputs": []
    }
  ]
}